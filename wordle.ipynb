{
 "cells": [
  {
   "cell_type": "code",
   "execution_count": 6,
   "id": "b1582877",
   "metadata": {},
   "outputs": [
    {
     "name": "stdout",
     "output_type": "stream",
     "text": [
      "['shame', 'shake', 'share', 'shane', 'shale']\n"
     ]
    }
   ],
   "source": [
    "from nltk.corpus import words\n",
    "\n",
    "word_list = words.words()\n",
    "\n",
    "five_letter_words_original = []\n",
    "\n",
    "for w in word_list:\n",
    "    if len(w) == 5:\n",
    "        five_letter_words_original.append(w.lower())\n",
    "\n",
    "five_letter_words_set = set(five_letter_words_original)\n",
    "\n",
    "pos_0 = 's'\n",
    "pos_1 = 'h'\n",
    "pos_2 = 'a'\n",
    "pos_3 = ''\n",
    "pos_4 = 'e'\n",
    "\n",
    "pos_list = [pos_0, pos_1, pos_2, pos_3, pos_4]\n",
    "\n",
    "wrong_letters = ['i', 'd', 'u', 'o', 'p', 'v', 'y']\n",
    "correct_letters = []\n",
    "\n",
    "five_letter_words = list(five_letter_words_set)\n",
    "\n",
    "for i in range(5):\n",
    "\n",
    "    if len(pos_list[i]) == 1:\n",
    "        for word in five_letter_words_set:\n",
    "            if word[i] != pos_list[i]:\n",
    "                try:\n",
    "                    five_letter_words.remove(word)\n",
    "                except:\n",
    "                    pass\n",
    "                    \n",
    "for j in range(5):\n",
    "    \n",
    "    for word in five_letter_words_set:\n",
    "        if word[j] in wrong_letters:\n",
    "            try:\n",
    "                five_letter_words.remove(word)\n",
    "            except:\n",
    "                pass\n",
    "            \n",
    "for k in correct_letters:\n",
    "    for word in five_letter_words_set:\n",
    "        if k not in word:\n",
    "            try:\n",
    "                five_letter_words.remove(word)\n",
    "            except:\n",
    "                pass\n",
    "            \n",
    "print(five_letter_words)"
   ]
  },
  {
   "cell_type": "code",
   "execution_count": null,
   "id": "7398010c",
   "metadata": {},
   "outputs": [],
   "source": []
  }
 ],
 "metadata": {
  "kernelspec": {
   "display_name": "Python 3",
   "language": "python",
   "name": "python3"
  },
  "language_info": {
   "codemirror_mode": {
    "name": "ipython",
    "version": 3
   },
   "file_extension": ".py",
   "mimetype": "text/x-python",
   "name": "python",
   "nbconvert_exporter": "python",
   "pygments_lexer": "ipython3",
   "version": "3.9.1"
  }
 },
 "nbformat": 4,
 "nbformat_minor": 5
}
