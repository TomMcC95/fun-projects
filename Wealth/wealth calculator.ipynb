{
 "cells": [
  {
   "cell_type": "code",
   "execution_count": 17,
   "metadata": {},
   "outputs": [],
   "source": [
    "def return_post_tax(income):\n",
    "    return income * 0.5\n"
   ]
  },
  {
   "cell_type": "code",
   "execution_count": 18,
   "metadata": {},
   "outputs": [
    {
     "name": "stdout",
     "output_type": "stream",
     "text": [
      "10000.0\n",
      "25000.0\n",
      "50000.0\n",
      "100000.0\n"
     ]
    }
   ],
   "source": [
    "for  i in [20000, 50000, 100000, 200000]:\n",
    "    print(return_post_tax(i))"
   ]
  },
  {
   "cell_type": "code",
   "execution_count": 24,
   "metadata": {},
   "outputs": [
    {
     "name": "stdout",
     "output_type": "stream",
     "text": [
      "0.059225\n",
      "0.1270505\n",
      "0.20446195250000002\n",
      "0.29254937045000007\n",
      "0.39251807640725006\n",
      "0.5057005410354052\n",
      "0.6335694205942017\n",
      "0.7777519140686491\n",
      "0.9400455726889108\n",
      "1.1224357079063156\n",
      "1.3271145585385669\n",
      "1.556502393911675\n",
      "1.8132707475541738\n",
      "2.1003679955022903\n",
      "2.4210475147305184\n",
      "2.778898680825903\n",
      "3.1778809899911917\n",
      "3.6223616190282693\n",
      "4.117156768379111\n",
      "4.667577167872842\n",
      "5.279478162859203\n",
      "5.959314840246933\n",
      "6.714202699991091\n",
      "7.551984428205078\n",
      "8.48130338377193\n",
      "9.51168447160213\n",
      "10.653623143089426\n",
      "11.918683338465273\n",
      "13.319605267321224\n",
      "14.87042401329909\n"
     ]
    }
   ],
   "source": [
    "years = 30\n",
    "salary = 150000\n",
    "cost_of_living = 17500\n",
    "salary_inflation = 0.10\n",
    "cost_inflation = 0.05\n",
    "savings_interest = 0.03\n",
    "\n",
    "savings = 0\n",
    "\n",
    "for i in range(years):\n",
    "    savings += return_post_tax((salary * (1+salary_inflation)**i))\n",
    "    savings -= (cost_of_living * (1+cost_inflation)**i)\n",
    "    savings = savings * (1+savings_interest)\n",
    "    print(savings/1000000)"
   ]
  }
 ],
 "metadata": {
  "interpreter": {
   "hash": "162ea936e15fabdd32824df34ef01067405aa581321ca860c84ef9fe1263463a"
  },
  "kernelspec": {
   "display_name": "Python 3.10.0 64-bit",
   "language": "python",
   "name": "python3"
  },
  "language_info": {
   "codemirror_mode": {
    "name": "ipython",
    "version": 3
   },
   "file_extension": ".py",
   "mimetype": "text/x-python",
   "name": "python",
   "nbconvert_exporter": "python",
   "pygments_lexer": "ipython3",
   "version": "3.10.0"
  },
  "orig_nbformat": 4
 },
 "nbformat": 4,
 "nbformat_minor": 2
}
