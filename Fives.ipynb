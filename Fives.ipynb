{
 "cells": [
  {
   "cell_type": "code",
   "execution_count": 23,
   "metadata": {},
   "outputs": [],
   "source": [
    "import pandas as pd\n",
    "import numpy as np\n",
    "from itertools import product"
   ]
  },
  {
   "cell_type": "code",
   "execution_count": 57,
   "metadata": {},
   "outputs": [],
   "source": [
    "def odds(players):\n",
    "    if players < 2:\n",
    "        print('Need more players')\n",
    "    else:\n",
    "        options = [0, 5]\n",
    "        combos = product(options, repeat = players-1)\n",
    "        totals_list = [sum(list(i) + [0]) for i in combos]\n",
    "\n",
    "        occurances = 0\n",
    "        mode_number = 0\n",
    "\n",
    "        for i in totals_list:\n",
    "            freq = totals_list.count(i)\n",
    "            if freq > occurances:\n",
    "                occurances = freq\n",
    "                mode_number = i\n",
    "\n",
    "        return occurances/len(totals_list)\n"
   ]
  },
  {
   "cell_type": "code",
   "execution_count": 61,
   "metadata": {},
   "outputs": [
    {
     "name": "stdout",
     "output_type": "stream",
     "text": [
      "0.010986328125\n"
     ]
    }
   ],
   "source": [
    "probability = 1\n",
    "\n",
    "for i in [6, 5, 4, 3, 2]:\n",
    "    probability *= odds(i)\n",
    "\n",
    "print(probability)"
   ]
  },
  {
   "cell_type": "code",
   "execution_count": 62,
   "metadata": {},
   "outputs": [],
   "source": [
    "def odds(players):\n",
    "    if players < 2:\n",
    "        print('Need more players')\n",
    "    else:\n",
    "        options = [0, 5]\n",
    "        combos = product(options, repeat = players)\n",
    "        totals_list = [sum(list(i)) for i in combos]\n",
    "\n",
    "        occurances = 0\n",
    "        mode_number = 0\n",
    "\n",
    "        for i in totals_list:\n",
    "            freq = totals_list.count(i)\n",
    "            if freq > occurances:\n",
    "                occurances = freq\n",
    "                mode_number = i\n",
    "\n",
    "        return occurances/len(totals_list)"
   ]
  },
  {
   "cell_type": "code",
   "execution_count": 63,
   "metadata": {},
   "outputs": [
    {
     "name": "stdout",
     "output_type": "stream",
     "text": [
      "0.006866455078125\n"
     ]
    }
   ],
   "source": [
    "probability = 1\n",
    "\n",
    "for i in [6, 5, 4, 3, 2]:\n",
    "    probability *= odds(i)\n",
    "\n",
    "print(probability)"
   ]
  },
  {
   "cell_type": "code",
   "execution_count": 64,
   "metadata": {},
   "outputs": [],
   "source": [
    "def odds(players):\n",
    "    if players < 2:\n",
    "        print('Need more players')\n",
    "    else:\n",
    "        options = [0, 5]\n",
    "        combos = product(options, repeat = players)\n",
    "        totals_list = [sum(list(i)) for i in combos]\n",
    "\n",
    "        occurances = 10000000\n",
    "        mode_number = 0\n",
    "\n",
    "        for i in totals_list:\n",
    "            freq = totals_list.count(i)\n",
    "            if freq < occurances:\n",
    "                occurances = freq\n",
    "                mode_number = i\n",
    "\n",
    "        return occurances/len(totals_list)"
   ]
  },
  {
   "cell_type": "code",
   "execution_count": 65,
   "metadata": {},
   "outputs": [
    {
     "name": "stdout",
     "output_type": "stream",
     "text": [
      "9.5367431640625e-07\n"
     ]
    }
   ],
   "source": [
    "probability = 1\n",
    "\n",
    "for i in [6, 5, 4, 3, 2]:\n",
    "    probability *= odds(i)\n",
    "\n",
    "print(probability)"
   ]
  },
  {
   "cell_type": "code",
   "execution_count": null,
   "metadata": {},
   "outputs": [],
   "source": []
  }
 ],
 "metadata": {
  "kernelspec": {
   "display_name": "Python 3.10.0 64-bit",
   "language": "python",
   "name": "python3"
  },
  "language_info": {
   "codemirror_mode": {
    "name": "ipython",
    "version": 3
   },
   "file_extension": ".py",
   "mimetype": "text/x-python",
   "name": "python",
   "nbconvert_exporter": "python",
   "pygments_lexer": "ipython3",
   "version": "3.10.0"
  },
  "orig_nbformat": 4,
  "vscode": {
   "interpreter": {
    "hash": "44cae796d5e3262cb430929fb79096f0224d05ab343bad48806926688e1db98c"
   }
  }
 },
 "nbformat": 4,
 "nbformat_minor": 2
}
