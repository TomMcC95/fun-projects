{
 "cells": [
  {
   "cell_type": "code",
   "execution_count": 9,
   "metadata": {},
   "outputs": [],
   "source": [
    "import pandas as pd\n",
    "import seaborn as sns"
   ]
  },
  {
   "cell_type": "code",
   "execution_count": 10,
   "metadata": {},
   "outputs": [
    {
     "name": "stdout",
     "output_type": "stream",
     "text": [
      "<class 'pandas.core.frame.DataFrame'>\n",
      "RangeIndex: 13268 entries, 0 to 13267\n",
      "Data columns (total 4 columns):\n",
      " #   Column                                              Non-Null Count  Dtype \n",
      "---  ------                                              --------------  ----- \n",
      " 0   Entity                                              13268 non-null  object\n",
      " 1   Code                                                11349 non-null  object\n",
      " 2   Year                                                13268 non-null  int64 \n",
      " 3   Live Animals - Cattle - 866 - Stocks - 5111 - Head  13268 non-null  int64 \n",
      "dtypes: int64(2), object(2)\n",
      "memory usage: 414.8+ KB\n"
     ]
    }
   ],
   "source": [
    "cow_df = pd.read_csv('cows.csv')\n",
    "\n",
    "cow_df.info()"
   ]
  },
  {
   "cell_type": "code",
   "execution_count": 11,
   "metadata": {},
   "outputs": [
    {
     "data": {
      "text/plain": [
       "Afghanistan                                58\n",
       "Puerto Rico                                58\n",
       "Nepal                                      58\n",
       "Net Food Importing Developing Countries    58\n",
       "Netherlands                                58\n",
       "                                           ..\n",
       "Serbia                                     13\n",
       "Montenegro                                 13\n",
       "South Sudan                                 7\n",
       "Sudan                                       7\n",
       "Western Sahara                              1\n",
       "Name: Entity, Length: 254, dtype: int64"
      ]
     },
     "execution_count": 11,
     "metadata": {},
     "output_type": "execute_result"
    }
   ],
   "source": [
    "cow_df.Entity.value_counts()"
   ]
  },
  {
   "cell_type": "code",
   "execution_count": 12,
   "metadata": {},
   "outputs": [
    {
     "data": {
      "text/plain": [
       "AFG    58\n",
       "JPN    58\n",
       "NPL    58\n",
       "NLD    58\n",
       "ANT    58\n",
       "       ..\n",
       "SRB    13\n",
       "MNE    13\n",
       "SDN     7\n",
       "SSD     7\n",
       "ESH     1\n",
       "Name: Code, Length: 219, dtype: int64"
      ]
     },
     "execution_count": 12,
     "metadata": {},
     "output_type": "execute_result"
    }
   ],
   "source": [
    "cow_df.Code.value_counts()"
   ]
  },
  {
   "cell_type": "code",
   "execution_count": 13,
   "metadata": {},
   "outputs": [
    {
     "data": {
      "text/plain": [
       "2018    244\n",
       "2017    244\n",
       "2016    244\n",
       "2015    244\n",
       "2014    244\n",
       "2013    244\n",
       "2012    244\n",
       "2008    243\n",
       "2001    243\n",
       "2007    243\n",
       "2006    243\n",
       "2009    243\n",
       "2010    243\n",
       "2011    243\n",
       "2005    242\n",
       "2004    242\n",
       "2003    242\n",
       "2002    242\n",
       "2000    242\n",
       "1999    239\n",
       "1998    239\n",
       "1997    239\n",
       "1996    239\n",
       "1995    239\n",
       "1994    238\n",
       "1992    237\n",
       "1993    237\n",
       "1990    219\n",
       "1989    218\n",
       "1966    218\n",
       "1971    218\n",
       "1970    218\n",
       "1969    218\n",
       "1968    218\n",
       "1967    218\n",
       "1972    218\n",
       "1985    218\n",
       "1986    218\n",
       "1987    218\n",
       "1988    218\n",
       "1991    218\n",
       "1973    217\n",
       "1965    217\n",
       "1963    217\n",
       "1964    217\n",
       "1976    217\n",
       "1974    217\n",
       "1975    217\n",
       "1962    217\n",
       "1977    217\n",
       "1978    217\n",
       "1979    217\n",
       "1980    217\n",
       "1981    217\n",
       "1982    217\n",
       "1983    217\n",
       "1984    217\n",
       "1961    217\n",
       "Name: Year, dtype: int64"
      ]
     },
     "execution_count": 13,
     "metadata": {},
     "output_type": "execute_result"
    }
   ],
   "source": [
    "cow_df.Year.value_counts()"
   ]
  },
  {
   "cell_type": "code",
   "execution_count": 23,
   "metadata": {},
   "outputs": [
    {
     "data": {
      "text/plain": [
       "<AxesSubplot:xlabel='Year'>"
      ]
     },
     "execution_count": 23,
     "metadata": {},
     "output_type": "execute_result"
    },
    {
     "data": {
      "image/png": "[encoded data removed]",
      "text/plain": [
       "<Figure size 432x288 with 1 Axes>"
      ]
     },
     "metadata": {
      "needs_background": "light"
     },
     "output_type": "display_data"
    }
   ],
   "source": [
    "cow_df_2 = cow_df.groupby('Year')['Live Animals - Cattle - 866 - Stocks - 5111 - Head'].sum()\n",
    "\n",
    "cow_df_2.plot()"
   ]
  },
  {
   "cell_type": "code",
   "execution_count": 20,
   "metadata": {},
   "outputs": [
    {
     "data": {
      "text/plain": [
       "['__add__',\n",
       " '__class__',\n",
       " '__contains__',\n",
       " '__delattr__',\n",
       " '__dir__',\n",
       " '__doc__',\n",
       " '__eq__',\n",
       " '__format__',\n",
       " '__ge__',\n",
       " '__getattribute__',\n",
       " '__getitem__',\n",
       " '__getnewargs__',\n",
       " '__gt__',\n",
       " '__hash__',\n",
       " '__init__',\n",
       " '__init_subclass__',\n",
       " '__iter__',\n",
       " '__le__',\n",
       " '__len__',\n",
       " '__lt__',\n",
       " '__mod__',\n",
       " '__mul__',\n",
       " '__ne__',\n",
       " '__new__',\n",
       " '__reduce__',\n",
       " '__reduce_ex__',\n",
       " '__repr__',\n",
       " '__rmod__',\n",
       " '__rmul__',\n",
       " '__setattr__',\n",
       " '__sizeof__',\n",
       " '__str__',\n",
       " '__subclasshook__',\n",
       " 'capitalize',\n",
       " 'casefold',\n",
       " 'center',\n",
       " 'count',\n",
       " 'encode',\n",
       " 'endswith',\n",
       " 'expandtabs',\n",
       " 'find',\n",
       " 'format',\n",
       " 'format_map',\n",
       " 'index',\n",
       " 'isalnum',\n",
       " 'isalpha',\n",
       " 'isascii',\n",
       " 'isdecimal',\n",
       " 'isdigit',\n",
       " 'isidentifier',\n",
       " 'islower',\n",
       " 'isnumeric',\n",
       " 'isprintable',\n",
       " 'isspace',\n",
       " 'istitle',\n",
       " 'isupper',\n",
       " 'join',\n",
       " 'ljust',\n",
       " 'lower',\n",
       " 'lstrip',\n",
       " 'maketrans',\n",
       " 'partition',\n",
       " 'removeprefix',\n",
       " 'removesuffix',\n",
       " 'replace',\n",
       " 'rfind',\n",
       " 'rindex',\n",
       " 'rjust',\n",
       " 'rpartition',\n",
       " 'rsplit',\n",
       " 'rstrip',\n",
       " 'split',\n",
       " 'splitlines',\n",
       " 'startswith',\n",
       " 'strip',\n",
       " 'swapcase',\n",
       " 'title',\n",
       " 'translate',\n",
       " 'upper',\n",
       " 'zfill']"
      ]
     },
     "execution_count": 20,
     "metadata": {},
     "output_type": "execute_result"
    }
   ],
   "source": [
    "dir('groupby')"
   ]
  }
 ],
 "metadata": {
  "interpreter": {
   "hash": "162ea936e15fabdd32824df34ef01067405aa581321ca860c84ef9fe1263463a"
  },
  "kernelspec": {
   "display_name": "Python 3.10.0 64-bit",
   "language": "python",
   "name": "python3"
  },
  "language_info": {
   "codemirror_mode": {
    "name": "ipython",
    "version": 3
   },
   "file_extension": ".py",
   "mimetype": "text/x-python",
   "name": "python",
   "nbconvert_exporter": "python",
   "pygments_lexer": "ipython3",
   "version": "3.10.0"
  },
  "orig_nbformat": 4
 },
 "nbformat": 4,
 "nbformat_minor": 2
}
