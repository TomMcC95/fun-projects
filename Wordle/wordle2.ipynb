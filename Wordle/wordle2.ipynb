{
 "cells": [
  {
   "cell_type": "code",
   "execution_count": null,
   "metadata": {},
   "outputs": [],
   "source": [
    "from nltk.corpus import words\n",
    "\n",
    "word_list = words.words()\n",
    "\n",
    "five_letter_words_original = [i for i in word_list if len(i) == 5]\n",
    "\n",
    "five_letter_words_set = set(five_letter_words_original)"
   ]
  },
  {
   "cell_type": "code",
   "execution_count": null,
   "metadata": {},
   "outputs": [],
   "source": [
    "# MAKE TABLE WITH EACH OF THE REMAINING 5 LETTER WORDS.\n",
    "    # ONE COLUMN FOR EACH LETTER\n",
    "    # 6TH COLUMN FOR SCORE\n",
    "    # 7TH  COLUMN FOR ENTIRE STRING.\n",
    "\n",
    "# COUNT OCCURANCE OF EACH LETTER REMAINING WITHIN TABLE\n",
    "\n",
    "# SCORE EACH WORD (ROW OF DATA):\n",
    "    # CUMULATIVE OCCURANCES FOR EACH OF THE 5 LETTERS.\n",
    "    # FIRST CHOICE CAN'T CONTAIN 2 OF THE SAME LETTERS\n",
    "\n",
    "# RANK TABLE BY SCORE\n",
    "    # CHOOSE HIGHEST SCORING.\n",
    "\n",
    "# IMPLEMENT RULES DISCOVERED BY GUESS AND REPEAT PROCESS."
   ]
  }
 ],
 "metadata": {
  "language_info": {
   "name": "python"
  },
  "orig_nbformat": 4
 },
 "nbformat": 4,
 "nbformat_minor": 2
}
