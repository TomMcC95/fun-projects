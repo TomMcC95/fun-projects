{
 "cells": [
  {
   "cell_type": "code",
   "execution_count": 9,
   "id": "4a6452ba-2290-492a-ae51-4fabc9d02985",
   "metadata": {},
   "outputs": [
    {
     "ename": "KeyError",
     "evalue": "'davit'",
     "output_type": "error",
     "traceback": [
      "\u001b[1;31m---------------------------------------------------------------------------\u001b[0m",
      "\u001b[1;31mKeyError\u001b[0m                                  Traceback (most recent call last)",
      "\u001b[1;32m~\\AppData\\Local\\Temp/ipykernel_2528/2321483588.py\u001b[0m in \u001b[0;36m<module>\u001b[1;34m\u001b[0m\n\u001b[0;32m     34\u001b[0m             \u001b[1;32mfor\u001b[0m \u001b[0mletter\u001b[0m \u001b[1;32min\u001b[0m \u001b[0mwrong_letters\u001b[0m\u001b[1;33m:\u001b[0m\u001b[1;33m\u001b[0m\u001b[1;33m\u001b[0m\u001b[0m\n\u001b[0;32m     35\u001b[0m                 \u001b[1;32mif\u001b[0m \u001b[0mletter\u001b[0m \u001b[1;32min\u001b[0m \u001b[0mword\u001b[0m\u001b[1;33m:\u001b[0m\u001b[1;33m\u001b[0m\u001b[1;33m\u001b[0m\u001b[0m\n\u001b[1;32m---> 36\u001b[1;33m                     \u001b[0mfive_letter_words_copy\u001b[0m\u001b[1;33m.\u001b[0m\u001b[0mremove\u001b[0m\u001b[1;33m(\u001b[0m\u001b[0mword\u001b[0m\u001b[1;33m)\u001b[0m\u001b[1;33m\u001b[0m\u001b[1;33m\u001b[0m\u001b[0m\n\u001b[0m\u001b[0;32m     37\u001b[0m \u001b[1;33m\u001b[0m\u001b[0m\n\u001b[0;32m     38\u001b[0m \u001b[1;33m\u001b[0m\u001b[0m\n",
      "\u001b[1;31mKeyError\u001b[0m: 'davit'"
     ]
    }
   ],
   "source": [
    "from nltk.corpus import words\n",
    "\n",
    "word_list = words.words()\n",
    "\n",
    "five_letter_words = []\n",
    "\n",
    "for w in word_list:\n",
    "    if len(w) == 5:\n",
    "        five_letter_words.append(w.lower())\n",
    "\n",
    "five_letter_words_set = set(five_letter_words)\n",
    "pos_0 = ''\n",
    "pos_1 = ''\n",
    "pos_2 = 'n'\n",
    "pos_3 = 'i'\n",
    "pos_4 = ''\n",
    "\n",
    "pos_list = [pos_0, pos_1, pos_2, pos_3, pos_4]\n",
    "\n",
    "wrong_letters = ['e', 'a', 'd', 's', 'u']\n",
    "correct_letters = []\n",
    "\n",
    "five_letter_words_copy = five_letter_words_set.copy()\n",
    "\n",
    "for i in range(5):\n",
    "\n",
    "    if len(pos_list[i]) == 1:\n",
    "        for word in five_letter_words_set:\n",
    "            if word[i] != pos_list[i]:\n",
    "                try:\n",
    "                    five_letter_words_copy.remove(word)\n",
    "                except:\n",
    "                    pass\n",
    "            #for letter in wrong_letters:\n",
    "                #if letter in word:\n",
    "                    #five_letter_words_copy.remove(word)\n",
    "\n",
    "                \n",
    "print(list(five_letter_words_copy))\n",
    "\n"
   ]
  },
  {
   "cell_type": "code",
   "execution_count": 7,
   "id": "dd78f75a-2aef-4ee3-8d88-aeb81f488d6e",
   "metadata": {},
   "outputs": [],
   "source": []
  },
  {
   "cell_type": "code",
   "execution_count": null,
   "id": "ff9b3089-c5f8-42c3-bc7b-4f8f7751a663",
   "metadata": {},
   "outputs": [],
   "source": []
  }
 ],
 "metadata": {
  "kernelspec": {
   "display_name": "Python 3 (ipykernel)",
   "language": "python",
   "name": "python3"
  },
  "language_info": {
   "codemirror_mode": {
    "name": "ipython",
    "version": 3
   },
   "file_extension": ".py",
   "mimetype": "text/x-python",
   "name": "python",
   "nbconvert_exporter": "python",
   "pygments_lexer": "ipython3",
   "version": "3.10.0"
  }
 },
 "nbformat": 4,
 "nbformat_minor": 5
}
